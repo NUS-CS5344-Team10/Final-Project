{
 "cells": [
  {
   "cell_type": "code",
   "execution_count": 1,
   "id": "7a7fda14",
   "metadata": {},
   "outputs": [],
   "source": [
    "import pyspark\n",
    "from pyspark.sql.functions import col, count, when, isnull, udf\n",
    "from pyspark.sql import SparkSession\n",
    "from pyspark.sql.types import StringType, FloatType, DoubleType, ArrayType\n",
    "from pyspark.ml.feature import Tokenizer, StopWordsRemover, Word2Vec\n",
    "from pyspark.ml import Pipeline\n",
    "from pyspark.ml.classification import MultilayerPerceptronClassifier\n",
    "from pyspark.ml.evaluation import BinaryClassificationEvaluator, MulticlassClassificationEvaluator"
   ]
  },
  {
   "cell_type": "code",
   "execution_count": 2,
   "id": "ac65b46e",
   "metadata": {},
   "outputs": [],
   "source": [
    "import html"
   ]
  },
  {
   "cell_type": "code",
   "execution_count": 22,
   "id": "6a44d060",
   "metadata": {},
   "outputs": [],
   "source": [
    "import emo_unicode\n",
    "from emo_unicode import *"
   ]
  },
  {
   "cell_type": "code",
   "execution_count": 3,
   "id": "4344a14c",
   "metadata": {},
   "outputs": [],
   "source": [
    "import nltk\n",
    "from nltk.tokenize import RegexpTokenizer, sent_tokenize, word_tokenize\n",
    "from nltk.corpus import stopwords, wordnet\n",
    "from  nltk.stem import WordNetLemmatizer\n",
    "from nltk.stem.porter import PorterStemmer\n",
    "import re\n",
    "\n",
    "lemmatizer = WordNetLemmatizer() # set lemmatizer\n",
    "stemmer = PorterStemmer() # set stemmer\n",
    "stopwords_list = stopwords.words('english')\n",
    "allowedWordTypes = [\"J\",\"R\",\"V\",\"N\"]"
   ]
  },
  {
   "cell_type": "code",
   "execution_count": 23,
   "id": "fb2830bc",
   "metadata": {},
   "outputs": [],
   "source": [
    "# title abbrevation dict\n",
    "\n",
    "#source: https://www.kaggle.com/code/nmaguette/up-to-date-list-of-slangs-for-text-preprocessing\n",
    "abbreviations = {\n",
    "    \"$\" : \" dollar \",\n",
    "    \"€\" : \" euro \",\n",
    "    \"4ao\" : \"for adults only\",\n",
    "    \"a.m\" : \"before midday\",\n",
    "    \"a3\" : \"anytime anywhere anyplace\",\n",
    "    \"aamof\" : \"as a matter of fact\",\n",
    "    \"acct\" : \"account\",\n",
    "    \"adih\" : \"another day in hell\",\n",
    "    \"afaic\" : \"as far as i am concerned\",\n",
    "    \"afaict\" : \"as far as i can tell\",\n",
    "    \"afaik\" : \"as far as i know\",\n",
    "    \"afair\" : \"as far as i remember\",\n",
    "    \"afk\" : \"away from keyboard\",\n",
    "    \"app\" : \"application\",\n",
    "    \"approx\" : \"approximately\",\n",
    "    \"apps\" : \"applications\",\n",
    "    \"asap\" : \"as soon as possible\",\n",
    "    \"asl\" : \"age, sex, location\",\n",
    "    \"atk\" : \"at the keyboard\",\n",
    "    \"ave.\" : \"avenue\",\n",
    "    \"aymm\" : \"are you my mother\",\n",
    "    \"ayor\" : \"at your own risk\", \n",
    "    \"b&b\" : \"bed and breakfast\",\n",
    "    \"b+b\" : \"bed and breakfast\",\n",
    "    \"b.c\" : \"before christ\",\n",
    "    \"b2b\" : \"business to business\",\n",
    "    \"b2c\" : \"business to customer\",\n",
    "    \"b4\" : \"before\",\n",
    "    \"b4n\" : \"bye for now\",\n",
    "    \"b@u\" : \"back at you\",\n",
    "    \"bae\" : \"before anyone else\",\n",
    "    \"bah\" : \"frustration\",\n",
    "    \"bak\" : \"back at keyboard\",\n",
    "    \"bbbg\" : \"bye bye be good\",\n",
    "    \"bbc\" : \"british broadcasting corporation\",\n",
    "    \"bbias\" : \"be back in a second\",\n",
    "    \"bbl\" : \"be back later\",\n",
    "    \"bbs\" : \"be back soon\",\n",
    "    \"be4\" : \"before\",\n",
    "    \"bfn\" : \"bye for now\",\n",
    "    \"blvd\" : \"boulevard\",\n",
    "    \"boooo\" : \"displeasure\",\n",
    "    \"bout\" : \"about\",\n",
    "    \"brb\" : \"be right back\",\n",
    "    \"bros\" : \"brothers\",\n",
    "    \"brt\" : \"be right there\",\n",
    "    \"bsaaw\" : \"big smile and a wink\",\n",
    "    \"btw\" : \"by the way\",\n",
    "    \"bwl\" : \"bursting with laughter\",\n",
    "    \"c/o\" : \"care of\",\n",
    "    \"cet\" : \"central european time\",\n",
    "    \"cf\" : \"compare\",\n",
    "    \"cia\" : \"central intelligence agency\",\n",
    "    \"csl\" : \"can not stop laughing\",\n",
    "    \"cu\" : \"see you\",\n",
    "    \"cul8r\" : \"see you later\",\n",
    "    \"cv\" : \"curriculum vitae\",\n",
    "    \"cwot\" : \"complete waste of time\",\n",
    "    \"cya\" : \"see you\",\n",
    "    \"cyt\" : \"see you tomorrow\",\n",
    "    \"dae\" : \"does anyone else\",\n",
    "    \"dbmib\" : \"do not bother me i am busy\",\n",
    "    \"diy\" : \"do it yourself\",\n",
    "    \"dm\" : \"direct message\",\n",
    "    \"dwh\" : \"during work hours\",\n",
    "    \"e123\" : \"easy as one two three\",\n",
    "    \"eet\" : \"eastern european time\",\n",
    "    \"eg\" : \"example\",\n",
    "    \"embm\" : \"early morning business meeting\",\n",
    "    \"encl\" : \"enclosed\",\n",
    "    \"encl.\" : \"enclosed\",\n",
    "    \"etc\" : \"and so on\",\n",
    "    \"faq\" : \"frequently asked questions\",\n",
    "    \"fawc\" : \"for anyone who cares\",\n",
    "    \"fb\" : \"facebook\",\n",
    "    \"fc\" : \"fingers crossed\",\n",
    "    \"fig\" : \"figure\",\n",
    "    \"fimh\" : \"forever in my heart\", \n",
    "    \"fml\" : \"fuck my life\",\n",
    "    \"ft.\" : \"feet\",\n",
    "    \"ft\" : \"featuring\",\n",
    "    \"ftl\" : \"for the loss\",\n",
    "    \"ftw\" : \"for the win\",\n",
    "    \"fwiw\" : \"for what it is worth\",\n",
    "    \"fyi\" : \"for your information\",\n",
    "    \"g9\" : \"genius\",\n",
    "    \"gahoy\" : \"get a hold of yourself\",\n",
    "    \"gal\" : \"get a life\",\n",
    "    \"gcse\" : \"general certificate of secondary education\",\n",
    "    \"gfn\" : \"gone for now\",\n",
    "    \"gg\" : \"good game\",\n",
    "    \"gl\" : \"good luck\",\n",
    "    \"glhf\" : \"good luck have fun\",\n",
    "    \"gmt\" : \"greenwich mean time\",\n",
    "    \"gmta\" : \"great minds think alike\",\n",
    "    \"gn\" : \"good night\",\n",
    "    \"g.o.a.t\" : \"greatest of all time\",\n",
    "    \"goat\" : \"greatest of all time\",\n",
    "    \"goi\" : \"get over it\",\n",
    "    \"gps\" : \"global positioning system\",\n",
    "    \"gr8\" : \"great\",\n",
    "    \"gratz\" : \"congratulations\",\n",
    "    \"gyal\" : \"girl\",\n",
    "    \"h&c\" : \"hot and cold\",\n",
    "    \"hp\" : \"horsepower\",\n",
    "    \"hr\" : \"hour\",\n",
    "    \"hrh\" : \"his royal highness\",\n",
    "    \"ht\" : \"height\",\n",
    "    \"hun\" : \"honey\",\n",
    "    \"ibrb\" : \"i will be right back\",\n",
    "    \"ic\" : \"i see\",\n",
    "    \"icq\" : \"i seek you\",\n",
    "    \"icymi\" : \"in case you missed it\",\n",
    "    \"idc\" : \"i do not care\",\n",
    "    \"idgadf\" : \"i do not give a damn fuck\",\n",
    "    \"idgaf\" : \"i do not give a fuck\",\n",
    "    \"idk\" : \"i do not know\",\n",
    "    \"ie\" : \"that is\",\n",
    "    \"i.e\" : \"that is\",\n",
    "    \"ifyp\" : \"i feel your pain\",\n",
    "    \"IG\" : \"instagram\",\n",
    "    \"iirc\" : \"if i remember correctly\",\n",
    "    \"ilu\" : \"i love you\",\n",
    "    \"ily\" : \"i love you\",\n",
    "    \"imho\" : \"in my humble opinion\",\n",
    "    \"imo\" : \"in my opinion\",\n",
    "    \"imu\" : \"i miss you\",\n",
    "    \"iow\" : \"in other words\",\n",
    "    \"irl\" : \"in real life\",\n",
    "    \"j4f\" : \"just for fun\",\n",
    "    \"jic\" : \"just in case\",\n",
    "    \"jk\" : \"just kidding\",\n",
    "    \"jsyk\" : \"just so you know\",\n",
    "    \"l8r\" : \"later\",\n",
    "    \"lb\" : \"pound\",\n",
    "    \"lbs\" : \"pounds\",\n",
    "    \"ldr\" : \"long distance relationship\",\n",
    "    \"lmao\" : \"laugh my ass off\",\n",
    "    \"lmfao\" : \"laugh my fucking ass off\",\n",
    "    \"lol\" : \"laughing out loud\",\n",
    "    \"ltd\" : \"limited\",\n",
    "    \"ltns\" : \"long time no see\",\n",
    "    \"m8\" : \"mate\",\n",
    "    \"mf\" : \"motherfucker\",\n",
    "    \"mfs\" : \"motherfuckers\",\n",
    "    \"mfw\" : \"my face when\",\n",
    "    \"mofo\" : \"motherfucker\",\n",
    "    \"mph\" : \"miles per hour\",\n",
    "    \"mr\" : \"mister\",\n",
    "    \"mrw\" : \"my reaction when\",\n",
    "    \"ms\" : \"miss\",\n",
    "    \"mte\" : \"my thoughts exactly\",\n",
    "    \"nagi\" : \"not a good idea\",\n",
    "    \"nbc\" : \"national broadcasting company\",\n",
    "    \"nbd\" : \"not big deal\",\n",
    "    \"nfs\" : \"not for sale\",\n",
    "    \"ngl\" : \"not going to lie\",\n",
    "    \"nhs\" : \"national health service\",\n",
    "    \"nrn\" : \"no reply necessary\",\n",
    "    \"nsfl\" : \"not safe for life\",\n",
    "    \"nsfw\" : \"not safe for work\",\n",
    "    \"nth\" : \"nice to have\",\n",
    "    \"nvr\" : \"never\",\n",
    "    \"nyc\" : \"new york city\",\n",
    "    \"oc\" : \"original content\",\n",
    "    \"og\" : \"original\",\n",
    "    \"ohp\" : \"overhead projector\",\n",
    "    \"oic\" : \"oh i see\",\n",
    "    \"omdb\" : \"over my dead body\",\n",
    "    \"omg\" : \"oh my god\",\n",
    "    \"omw\" : \"on my way\",\n",
    "    \"ott\" : \"over the top\",\n",
    "    \"p.a\" : \"per annum\",\n",
    "    \"p.m\" : \"after midday\",\n",
    "    \"pedos\" : \"pedophile\",\n",
    "    \"perma\" : \"permanent\",\n",
    "    \"pm\" : \"prime minister\",\n",
    "    \"poc\" : \"people of color\",\n",
    "    \"pov\" : \"point of view\",\n",
    "    \"pp\" : \"pages\",\n",
    "    \"ppl\" : \"people\",\n",
    "    \"prw\" : \"parents are watching\",\n",
    "    \"ps\" : \"postscript\",\n",
    "    \"pmsl\" : \"pissing myself laughing\",\n",
    "    \"pt\" : \"point\",\n",
    "    \"ptb\" : \"please text back\",\n",
    "    \"pto\" : \"please turn over\",\n",
    "    \"qpsa\" : \"what happens\", #\"que pasa\",\n",
    "    \"ratchet\" : \"rude\",\n",
    "    \"rbtl\" : \"read between the lines\",\n",
    "    \"rlrt\" : \"real life retweet\", \n",
    "    \"rofl\" : \"rolling on the floor laughing\",\n",
    "    \"roflol\" : \"rolling on the floor laughing out loud\",\n",
    "    \"rotflmao\" : \"rolling on the floor laughing my ass off\",\n",
    "    \"rt\" : \"retweet\",\n",
    "    \"ruok\" : \"are you ok\",\n",
    "    \"sfw\" : \"safe for work\",\n",
    "    \"sk8\" : \"skate\",\n",
    "    \"smh\" : \"shake my head\",\n",
    "    \"sq\" : \"square\",\n",
    "    \"srsly\" : \"seriously\", \n",
    "    \"ssdd\" : \"same stuff different day\",\n",
    "    \"tbh\" : \"to be honest\",\n",
    "    \"tbs\" : \"tablespooful\",\n",
    "    \"tbsp\" : \"tablespooful\",\n",
    "    \"tfw\" : \"that feeling when\",\n",
    "    \"thks\" : \"thank you\",\n",
    "    \"tho\" : \"though\",\n",
    "    \"thx\" : \"thank you\",\n",
    "    \"tia\" : \"thanks in advance\",\n",
    "    \"til\" : \"today i learned\",\n",
    "    \"tl;dr\" : \"too long i did not read\",\n",
    "    \"tldr\" : \"too long i did not read\",\n",
    "    \"tmb\" : \"tweet me back\",\n",
    "    \"tntl\" : \"trying not to laugh\",\n",
    "    \"ttyl\" : \"talk to you later\",\n",
    "    \"u\" : \"you\",\n",
    "    \"u2\" : \"you too\",\n",
    "    \"u4e\" : \"yours for ever\",\n",
    "    \"utc\" : \"coordinated universal time\",\n",
    "    \"w/\" : \"with\",\n",
    "    \"w/o\" : \"without\",\n",
    "    \"w00t\" : \"joy\",\n",
    "    \"w8\" : \"wait\",\n",
    "    \"wassup\" : \"what is up\",\n",
    "    \"wb\" : \"welcome back\",\n",
    "    \"wtf\" : \"what the fuck\",\n",
    "    \"wtg\" : \"way to go\",\n",
    "    \"wtpa\" : \"where the party at\",\n",
    "    \"wuf\" : \"where are you from\",\n",
    "    \"wuzup\" : \"what is up\",\n",
    "    \"wywh\" : \"wish you were here\",\n",
    "    \"yd\" : \"yard\",\n",
    "    \"ygtr\" : \"you got that right\",\n",
    "    \"ynk\" : \"you never know\",\n",
    "    \"zzz\" : \"sleeping bored and tired\"\n",
    "}"
   ]
  },
  {
   "cell_type": "markdown",
   "id": "4d9565cc",
   "metadata": {},
   "source": [
    "Since this course is on big data, we want to compare the performance of various binary classification in Spark's machine learning (ML) library in this project."
   ]
  },
  {
   "cell_type": "code",
   "execution_count": 4,
   "id": "7a7e0097",
   "metadata": {},
   "outputs": [],
   "source": [
    "spark = SparkSession.builder.config('spark.driver.memory', '4g').appName('TwitterSentimentAnalysis').getOrCreate()"
   ]
  },
  {
   "cell_type": "code",
   "execution_count": 5,
   "id": "9e1ccb00",
   "metadata": {},
   "outputs": [],
   "source": [
    "# import data\n",
    "metadf = spark.read.csv(\"training.1600000.processed.noemoticon.csv\", inferSchema=True)"
   ]
  },
  {
   "cell_type": "code",
   "execution_count": null,
   "id": "b501b51a",
   "metadata": {},
   "outputs": [],
   "source": [
    "# examine data\n",
    "metadf.show()"
   ]
  },
  {
   "cell_type": "code",
   "execution_count": 6,
   "id": "4bf190a2",
   "metadata": {},
   "outputs": [
    {
     "name": "stdout",
     "output_type": "stream",
     "text": [
      "[Row(Polarity=0, TweetID=0, Date=0, QueryFlag=0, User=0, TweetText=0)]\n",
      "+--------+-------+----+---------+----+---------+-----+\n",
      "|Polarity|TweetID|Date|QueryFlag|User|TweetText|count|\n",
      "+--------+-------+----+---------+----+---------+-----+\n",
      "+--------+-------+----+---------+----+---------+-----+\n",
      "\n"
     ]
    }
   ],
   "source": [
    "# data preprocess\n",
    "metadf = (((((metadf.withColumnRenamed(\"_c0\", \"Polarity\")\n",
    "              .withColumnRenamed(\"_c1\", \"TweetID\"))\n",
    "             .withColumnRenamed(\"_c2\", \"Date\"))\n",
    "            .withColumnRenamed(\"_c3\", \"QueryFlag\"))\n",
    "           .withColumnRenamed(\"_c4\", \"User\"))\n",
    "          .withColumnRenamed(\"_c5\", \"TweetText\"))\n",
    "missing_count = metadf.select([count(when(isnull(c), c)).alias(c) for c in metadf.columns]).collect()\n",
    "print(missing_count)\n",
    "duplicates = metadf.groupBy(metadf.columns).count().filter(\"count > 1\")\n",
    "duplicates.show()"
   ]
  },
  {
   "cell_type": "code",
   "execution_count": null,
   "id": "8d6aaeda",
   "metadata": {},
   "outputs": [],
   "source": [
    "# check schema\n",
    "metadf.printSchema() "
   ]
  },
  {
   "cell_type": "code",
   "execution_count": 7,
   "id": "216917ba",
   "metadata": {},
   "outputs": [
    {
     "name": "stdout",
     "output_type": "stream",
     "text": [
      "There are 1600000 rows and  6 columns in the dataset.\n"
     ]
    }
   ],
   "source": [
    "print(f\"There are {metadf.count()} rows and  {len(metadf.columns)} columns in the dataset.\")"
   ]
  },
  {
   "cell_type": "code",
   "execution_count": null,
   "id": "bf65d3fb",
   "metadata": {},
   "outputs": [],
   "source": [
    "# check for data types \n",
    "# metadf.dtypes"
   ]
  },
  {
   "cell_type": "code",
   "execution_count": 8,
   "id": "236f9436",
   "metadata": {},
   "outputs": [],
   "source": [
    "cols_to_drop= (\"TweetID\",\"Date\",\"QueryFlag\",\"User\")\n",
    "metadf = metadf.drop(*cols_to_drop)"
   ]
  },
  {
   "cell_type": "code",
   "execution_count": 9,
   "id": "06b0b08e",
   "metadata": {},
   "outputs": [
    {
     "name": "stdout",
     "output_type": "stream",
     "text": [
      "Number of rows in the dataframe after dropping the duplicates: 1583688\n"
     ]
    }
   ],
   "source": [
    "metadf = metadf.dropDuplicates()\n",
    "print(f\"Number of rows in the dataframe after dropping the duplicates: {metadf.count()}\")"
   ]
  },
  {
   "cell_type": "code",
   "execution_count": 10,
   "id": "a6ca79e8",
   "metadata": {},
   "outputs": [
    {
     "name": "stdout",
     "output_type": "stream",
     "text": [
      "root\n",
      " |-- Polarity: integer (nullable = true)\n",
      " |-- TweetText: string (nullable = true)\n",
      "\n"
     ]
    }
   ],
   "source": [
    "metadf.printSchema()"
   ]
  },
  {
   "cell_type": "code",
   "execution_count": null,
   "id": "03af5b3c",
   "metadata": {
    "scrolled": false
   },
   "outputs": [],
   "source": [
    "metadf.show(50, truncate = False)"
   ]
  },
  {
   "cell_type": "code",
   "execution_count": 11,
   "id": "d0c09b33",
   "metadata": {},
   "outputs": [
    {
     "name": "stdout",
     "output_type": "stream",
     "text": [
      "+--------+------+\n",
      "|Polarity| count|\n",
      "+--------+------+\n",
      "|       0|790183|\n",
      "|       4|793505|\n",
      "+--------+------+\n",
      "\n"
     ]
    }
   ],
   "source": [
    "# check the number of distinct labels and the respective counts \n",
    "metadf.groupBy('Polarity').count().orderBy('count').show()"
   ]
  },
  {
   "cell_type": "code",
   "execution_count": 12,
   "id": "bd486732",
   "metadata": {},
   "outputs": [],
   "source": [
    "# turn text polarity into double type\n",
    "\n",
    "def polarity_map(value):\n",
    "    if value == 4:\n",
    "        return 1.0  # Positive\n",
    "#     elif value == 2:\n",
    "#         return 1.0  # Neutral\n",
    "    else:\n",
    "        return 0.0  # Negative\n"
   ]
  },
  {
   "cell_type": "code",
   "execution_count": 13,
   "id": "f66a6398",
   "metadata": {},
   "outputs": [],
   "source": [
    "polarity_udf = udf(polarity_map, DoubleType())\n",
    "metadf = metadf.withColumn(\"label\", polarity_udf(metadf[\"Polarity\"]))"
   ]
  },
  {
   "cell_type": "code",
   "execution_count": 14,
   "id": "8afb90d1",
   "metadata": {},
   "outputs": [
    {
     "name": "stdout",
     "output_type": "stream",
     "text": [
      "+-----+------+\n",
      "|label| count|\n",
      "+-----+------+\n",
      "|  0.0|790183|\n",
      "|  1.0|793505|\n",
      "+-----+------+\n",
      "\n"
     ]
    }
   ],
   "source": [
    "# check the number of distinct labels and the respective counts \n",
    "metadf.groupBy('label').count().orderBy('count').show()"
   ]
  },
  {
   "cell_type": "markdown",
   "id": "418d1bfa",
   "metadata": {},
   "source": [
    "Preprocessing Steps:\n",
    "\n",
    "1. Convert to lower case\n",
    "2. Replace actual URLs by a string `URL`\n",
    "3. unescape unclean html characters\n",
    "4. Replace emotions with emotion strings by using emo_unicode\n",
    "\n",
    " - @switchfoot http://twitpic.com/2y1zl - Awww, that's a bummer.  You shoulda got David Carr of Third Day to do it. ;D\n",
    " \n",
    "5. Replace abbreviations\n",
    "6. replace any mention of users with the string `atUser`,\n",
    "7. remove # before topics\n",
    "8. replace ???, ..., !!! by `multiQuestion`, `multiStop`, `multiExclamation`,\n",
    "9. replace contraction forms with full forms\n",
    "10. Keep English characters, numbers(remove non-English words and punctuation)\n",
    "11. POS-tagging for tokens, keep only adj, adv, verb, noun\n",
    "12. stemming for tokens"
   ]
  },
  {
   "cell_type": "code",
   "execution_count": 24,
   "id": "fe40874d",
   "metadata": {},
   "outputs": [],
   "source": [
    "# https://github.com/Deffro/text-preprocessing-techniques/blob/master/techniques.py\n",
    "def removeUnicode(text):\n",
    "    \"\"\" Removes unicode strings like \"\\u002c\" and \"x96\" \"\"\"\n",
    "    text = re.sub(r'(\\\\u[0-9A-Fa-f]+)',r'', text)       \n",
    "    text = re.sub(r'[^\\x00-\\x7f]',r'',text)\n",
    "    return text"
   ]
  },
  {
   "cell_type": "code",
   "execution_count": 25,
   "id": "155b6bf3",
   "metadata": {},
   "outputs": [],
   "source": [
    "def replaceURL(text):\n",
    "    \"\"\" Replaces url address with \"url\" \"\"\"\n",
    "    text = re.sub('((www\\.[^\\s]+)|(https?://[^\\s]+))','URL',text)\n",
    "    text = re.sub(r'#([^\\s]+)', r'\\1', text)\n",
    "    return text\n",
    "def replaceAtUser(text):\n",
    "    \"\"\" Replaces \"@user\" with \"atUser\" \"\"\"\n",
    "    text = re.sub('@[^\\s]+','atUser',text)\n",
    "    return text\n",
    "def removeHashtagInFrontOfWord(text):\n",
    "    \"\"\" Removes hastag in front of a word \"\"\"\n",
    "    text = re.sub(r'#([^\\s]+)', r'\\1', text)\n",
    "    return text\n",
    "\n",
    "def replaceMultiExclamationMark(text):\n",
    "    \"\"\" Replaces repetitions of exlamation marks \"\"\"\n",
    "    text = re.sub(r\"(\\!)\\1+\", ' multiExclamation ', text)\n",
    "    return text\n",
    "\n",
    "def replaceMultiQuestionMark(text):\n",
    "    \"\"\" Replaces repetitions of question marks \"\"\"\n",
    "    text = re.sub(r\"(\\?)\\1+\", ' multiQuestion ', text)\n",
    "    return text\n",
    "\n",
    "def replaceMultiStopMark(text):\n",
    "    \"\"\" Replaces repetitions of stop marks \"\"\"\n",
    "    text = re.sub(r\"(\\.)\\1+\", ' multiStop ', text)\n",
    "    return text\n",
    "\n",
    "contraction_patterns = [ (r'won\\'t', 'will not'), (r'can\\'t', 'cannot'), (r'i\\'m', 'i am'), (r'ain\\'t', 'is not'), (r'(\\w+)\\'ll', '\\g<1> will'), (r'(\\w+)n\\'t', '\\g<1> not'),\n",
    "                         (r'(\\w+)\\'ve', '\\g<1> have'), (r'(\\w+)\\'s', '\\g<1> is'), (r'(\\w+)\\'re', '\\g<1> are'), (r'(\\w+)\\'d', '\\g<1> would'), (r'&', 'and'), (r'dammit', 'damn it'), (r'dont', 'do not'), (r'wont', 'will not') ]\n",
    "def replaceContraction(text):\n",
    "    patterns = [(re.compile(regex), repl) for (regex, repl) in contraction_patterns]\n",
    "    for (pattern, repl) in patterns:\n",
    "        (text, count) = re.subn(pattern, repl, text)\n",
    "    return text"
   ]
  },
  {
   "cell_type": "code",
   "execution_count": 26,
   "id": "300a890d",
   "metadata": {},
   "outputs": [],
   "source": [
    "# tokenizer = RegexpTokenizer(r'[A-Za-z0-9_@#\\']+')\n",
    "tokenizer = RegexpTokenizer(r'[A-Za-z0-9_\\']+')\n",
    "\n",
    "# tokenizer = RegexpTokenizer(r'@\\S+|https?:\\S+|http?:\\S|[^A-Za-z0-9]+')\n",
    "def tokenize(s):\n",
    "    full_tokens = []\n",
    "    final_tokens = []    \n",
    "    tokens = tokenizer.tokenize(s)\n",
    "    tokens = [abbreviations.get(word, word) for word in tokens]\n",
    "    for t in tokens:\n",
    "        full_tokens=full_tokens+t.split()\n",
    "    tagged = nltk.pos_tag(full_tokens)\n",
    "    for w in tagged:\n",
    "        if (w[1][0] in allowedWordTypes and w[0] not in stopwords_list):\n",
    "            final_word = w[0]\n",
    "#             final_word = lemmatizer.lemmatize(final_word)\n",
    "            final_word = stemmer.stem(final_word)       \n",
    "            final_tokens.append(final_word)\n",
    "    final_text = \" \".join(final_tokens)\n",
    "    return final_tokens"
   ]
  },
  {
   "cell_type": "code",
   "execution_count": 18,
   "id": "af1f3885",
   "metadata": {},
   "outputs": [],
   "source": [
    "# maintaing the complete url is unlikely to be useful. Hence we replace actual urls by the string 'url'\n",
    "# replace_url_re = \"https?:\\S+|http?:\\S\""
   ]
  },
  {
   "cell_type": "code",
   "execution_count": 27,
   "id": "1b2556be",
   "metadata": {},
   "outputs": [],
   "source": [
    "def preprocess(text):\n",
    "    # convert all to lower case\n",
    "    # replace urls\n",
    "    # replace special characters\n",
    "#     text_cleaned = re.sub(replace_url_re, 'URL', str(text).lower()).strip()\n",
    "    text_cleaned = replaceURL(str(text).lower()).strip()\n",
    "    text_cleaned = html.unescape(text_cleaned)\n",
    "    text_cleaned = removeUnicode(text_cleaned)\n",
    "\n",
    "    for emoji,feeling  in EMOTICONS_EMO.items():\n",
    "        text_cleaned = text_cleaned.replace(emoji,feeling)\n",
    "    text_cleaned=\" \".join(abbreviations.get(word, word) for word in text_cleaned.split())\n",
    "    text_cleaned = replaceAtUser(text_cleaned)\n",
    "    text_cleaned = removeHashtagInFrontOfWord(text_cleaned)\n",
    "    text_cleaned = replaceMultiExclamationMark(text_cleaned)\n",
    "    text_cleaned = replaceMultiQuestionMark(text_cleaned)\n",
    "    text_cleaned = replaceMultiStopMark(text_cleaned)\n",
    "#     \n",
    "    text_cleaned = replaceContraction(text_cleaned)\n",
    "    \n",
    "    text_tokenized = tokenize(text_cleaned)\n",
    "#     text_tokenized = [abbreviations.get(word, word) for word in text_tokenized]\n",
    "    return text_tokenized"
   ]
  },
  {
   "cell_type": "code",
   "execution_count": 29,
   "id": "5d69c863",
   "metadata": {},
   "outputs": [],
   "source": [
    "preprocess_udf = udf(lambda x: preprocess(x), ArrayType(StringType()))\n",
    "metadf = metadf.withColumn('tokens_cleaned',preprocess_udf(col(\"TweetText\")))"
   ]
  },
  {
   "cell_type": "code",
   "execution_count": null,
   "id": "a7d543ad",
   "metadata": {},
   "outputs": [],
   "source": [
    "# def replace_at_label(words):\n",
    "#     index = 0\n",
    "#     while index<len(words):\n",
    "#         word = words[index]\n",
    "#         index += 1\n",
    "#         if '@' in word:\n",
    "#             words_first_half = words[:index-1]\n",
    "#             words_second_half = words[index:]\n",
    "            \n",
    "#             at_split_result = word.split('@')\n",
    "#             for i in range(1,len(at_split_result)):\n",
    "#                 at_split_result[i] = 'USER'\n",
    "#             if len(at_split_result[0]) == 0:\n",
    "#                 at_split_result.pop(0)\n",
    "#             words = words_first_half+at_split_result+words_second_half\n",
    "#     return words"
   ]
  },
  {
   "cell_type": "code",
   "execution_count": null,
   "id": "0820fee3",
   "metadata": {},
   "outputs": [],
   "source": [
    "# replace_at_label_udf = udf(lambda x: replace_at_label(x), StringType())\n",
    "# metadf = metadf.withColumn('text_cleaned',preprocess_udf(col(\"TweetText\")))"
   ]
  },
  {
   "cell_type": "code",
   "execution_count": 30,
   "id": "b62866e9",
   "metadata": {
    "scrolled": false
   },
   "outputs": [
    {
     "name": "stdout",
     "output_type": "stream",
     "text": [
      "+--------+----------------------------------------------------------------------------------------------------------------------+-----+----------------------------------------------------------------------------------------------------+\n",
      "|Polarity|TweetText                                                                                                             |label|tokens_cleaned                                                                                      |\n",
      "+--------+----------------------------------------------------------------------------------------------------------------------+-----+----------------------------------------------------------------------------------------------------+\n",
      "|0       |I feel like a complete idiot. I'm the only one who doesn't get how this shit works  help me                           |0.0  |[feel, complet, idiot, one, get, shit, work, help]                                                  |\n",
      "|0       |@KishoreK this is strange, illegal torrents avlbl everywhere, legal DVD not in stock  What do I do now???             |0.0  |[atus, strang, illeg, torrent, avlbl, everywher, legal, dvd, stock, multiquest]                     |\n",
      "|0       |@InYourEyes2410 I reckon                                                                                              |0.0  |[atus, reckon]                                                                                      |\n",
      "|0       |A little sad                                                                                                          |0.0  |[littl, sad]                                                                                        |\n",
      "|0       |I'm off too bed. I gotta wake up hella early tomorrow morning.                                                        |0.0  |[bed, gotta, wake, hella, earli, tomorrow, morn]                                                    |\n",
      "|0       |@khqrightnow I heard them making announcements trying to find them. The mother looked so worried.                     |0.0  |[atus, heard, make, announc, tri, find, mother, look, worri]                                        |\n",
      "|0       |its the holidays and i still bloody insist on waking up at school times                                               |0.0  |[holiday, still, bloodi, insist, wake, school, time]                                                |\n",
      "|0       |@crazytwism i know..they block orkut in dubai!! in oman they have orkut access,but skype is banned!  ru from the gulf?|0.0  |[atus, know, multistop, block, orkut, dubai, multiexclam, oman, orkut, access, skype, ban, ru, gulf]|\n",
      "|0       |I'm yet thinking of earthquake in Abruzzo(Italy)                                                                      |0.0  |[yet, think, earthquak, abruzzo, itali]                                                             |\n",
      "|0       |feeling ill today too so not having a great day                                                                       |0.0  |[feel, ill, today, great, day]                                                                      |\n",
      "+--------+----------------------------------------------------------------------------------------------------------------------+-----+----------------------------------------------------------------------------------------------------+\n",
      "only showing top 10 rows\n",
      "\n"
     ]
    }
   ],
   "source": [
    "metadf.show(10, truncate = False)"
   ]
  },
  {
   "cell_type": "code",
   "execution_count": 31,
   "id": "20e58799",
   "metadata": {},
   "outputs": [
    {
     "name": "stdout",
     "output_type": "stream",
     "text": [
      "root\n",
      " |-- Polarity: integer (nullable = true)\n",
      " |-- TweetText: string (nullable = true)\n",
      " |-- label: double (nullable = true)\n",
      " |-- tokens_cleaned: array (nullable = true)\n",
      " |    |-- element: string (containsNull = true)\n",
      "\n"
     ]
    }
   ],
   "source": [
    "metadf.printSchema()"
   ]
  },
  {
   "cell_type": "code",
   "execution_count": 32,
   "id": "63d7936a",
   "metadata": {},
   "outputs": [],
   "source": [
    "# word2vec process\n",
    "word2Vec = Word2Vec(vectorSize=100, minCount=5, inputCol=\"tokens_cleaned\", outputCol=\"features\")"
   ]
  },
  {
   "cell_type": "code",
   "execution_count": null,
   "id": "6a6c8bc4",
   "metadata": {},
   "outputs": [],
   "source": [
    "# multi layer perceptron classifier\n",
    "layers = [100, 64, 32, 2]\n",
    "mlp = MultilayerPerceptronClassifier(layers=layers, blockSize=128, seed=1234)\n",
    "pipeline = Pipeline(stages=[word2Vec, mlp])\n",
    "seed = 24\n",
    "(train, test) = metadf.randomSplit([0.8, 0.2], seed)\n",
    "model = pipeline.fit(train)"
   ]
  },
  {
   "cell_type": "code",
   "execution_count": null,
   "id": "5065296d",
   "metadata": {},
   "outputs": [],
   "source": [
    "predictions = model.transform(test)"
   ]
  },
  {
   "cell_type": "code",
   "execution_count": null,
   "id": "0abc2bd2",
   "metadata": {},
   "outputs": [],
   "source": [
    "predictions.printSchema()"
   ]
  },
  {
   "cell_type": "code",
   "execution_count": null,
   "id": "28b766c9",
   "metadata": {},
   "outputs": [],
   "source": [
    "predictions.show(5, truncate = False)"
   ]
  },
  {
   "cell_type": "code",
   "execution_count": null,
   "id": "c29da677",
   "metadata": {},
   "outputs": [],
   "source": [
    "# predictions = model.transform(test)\n",
    "predictions.select(\"TweetText\", \"label\", \"prediction\").show()"
   ]
  },
  {
   "cell_type": "code",
   "execution_count": null,
   "id": "3a022175",
   "metadata": {},
   "outputs": [],
   "source": []
  },
  {
   "cell_type": "code",
   "execution_count": null,
   "id": "58074f2d",
   "metadata": {},
   "outputs": [],
   "source": [
    "predictionAndLabels = predictions.select(\"prediction\", \"label\")\n",
    "evaluator = MulticlassClassificationEvaluator(metricName=\"accuracy\")\n",
    "print(\"Test set accuracy = \" + str(evaluator.evaluate(predictionAndLabels)))"
   ]
  },
  {
   "cell_type": "code",
   "execution_count": null,
   "id": "3d6e59ba",
   "metadata": {},
   "outputs": [],
   "source": [
    "evaluator = MulticlassClassificationEvaluator(metricName=\"f1\")\n",
    "f1_score = evaluator.evaluate(predictions)\n",
    "print(f\"The f1_score of MLP model is: {f1_score}\")"
   ]
  },
  {
   "cell_type": "code",
   "execution_count": null,
   "id": "161935e6",
   "metadata": {},
   "outputs": [],
   "source": [
    "evaluator = MulticlassClassificationEvaluator(metricName=\"weightedPrecision\")\n",
    "weightedPrecision = evaluator.evaluate(predictionAndLabels)\n",
    "print(f\"The testing weightedPrecision of MLP model is: {weightedPrecision}\")"
   ]
  },
  {
   "cell_type": "code",
   "execution_count": null,
   "id": "517da887",
   "metadata": {},
   "outputs": [],
   "source": [
    "evaluator = MulticlassClassificationEvaluator(metricName=\"weightedRecall\")\n",
    "weightedRecall = evaluator.evaluate(predictions)\n",
    "print(f\"The testing weightedRecall of MLP model is: {weightedRecall}\")"
   ]
  },
  {
   "cell_type": "code",
   "execution_count": null,
   "id": "7211ae16",
   "metadata": {},
   "outputs": [],
   "source": [
    "evaluator = MulticlassClassificationEvaluator(metricName=\"weightedRecall\")\n",
    "\n"
   ]
  }
 ],
 "metadata": {
  "kernelspec": {
   "display_name": "Python 3",
   "language": "python",
   "name": "python3"
  },
  "language_info": {
   "codemirror_mode": {
    "name": "ipython",
    "version": 3
   },
   "file_extension": ".py",
   "mimetype": "text/x-python",
   "name": "python",
   "nbconvert_exporter": "python",
   "pygments_lexer": "ipython3",
   "version": "3.6.9"
  }
 },
 "nbformat": 4,
 "nbformat_minor": 5
}
